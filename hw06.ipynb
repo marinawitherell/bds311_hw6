{
 "cells": [
  {
   "cell_type": "code",
   "execution_count": 2,
   "metadata": {
    "deletable": false,
    "editable": false,
    "tags": []
   },
   "outputs": [],
   "source": [
    "# Initialize Otter\n",
    "import otter\n",
    "grader = otter.Notebook(\"hw06.ipynb\")"
   ]
  },
  {
   "cell_type": "markdown",
   "metadata": {},
   "source": [
    "# Homework 6: Permutation tests\n",
    "# Due Monday 2/26 at 11:59pm"
   ]
  },
  {
   "cell_type": "markdown",
   "metadata": {},
   "source": [
    "# **Helpful Resources:**\n",
    "\n",
    "- [Getting help on a Jupyter Notebook](https://problemsolvingwithpython.com/02-Jupyter-Notebooks/02.07-Getting-Help-in-a-Jupyter-Notebook/)\n",
    "\n",
    "- [Python Examples](https://nbviewer.jupyter.org/urls/bitbucket.org/hrojas/learn-pandas/raw/master/lessons/Python_101.ipynb): A reference for distinct Python commands (worth returning to throughout this course)\n",
    "\n",
    "- [Inferential Thinking: Chapter 12, Comparing Two Samples](https://inferentialthinking.com/chapters/12/Comparing_Two_Samples.html)\n",
    "\n",
    "### Summary Procedure for permutation tests\n",
    "\n",
    "1. Identify a null and alternative hypothesis.\n",
    "2. Choose a test statistic.\n",
    "3. Permute the members of the original groups and compute the test statistic.\n",
    "4. Repeat this shuffling (permutation) many times, recording the test statistic.\n",
    "5. Compare the distributions of test statistics from permutations with observed value.\n",
    "\n"
   ]
  },
  {
   "cell_type": "code",
   "execution_count": 3,
   "metadata": {
    "tags": []
   },
   "outputs": [],
   "source": [
    "import matplotlib\n",
    "import matplotlib.pyplot as plt\n",
    "import pandas as pd\n",
    "import numpy as np"
   ]
  },
  {
   "cell_type": "markdown",
   "metadata": {},
   "source": [
    "## Point Breakdown\n",
    "\n",
    "| **Question #** | **Points**  |\n",
    "| -------------- | :---------: |\n",
    "| Question 1     | 30        |\n",
    "| Question 2     | 30        |\n"
   ]
  },
  {
   "cell_type": "markdown",
   "metadata": {},
   "source": [
    "## Question 1: Does seeding clouds influence rainfall? (42 pts)\n",
    "The file `cloudseed.csv` contains precipitation data from a randomized experiment carried out in the 1970s in Florida to evaluate cloud seeding (a technique that involves injecting clouds with a\n",
    "chemical to increase rainfall). On each of 52 days suitable for cloud seeding, the experimenters used a random mechanism to decide whether to seed clouds or not. A plane flew through the clouds each day regardless of seeding, and the plane’s pilot did not know the treatment. Precipitation was measured as total rain volume (in acre-feet) in the 24 hours following the plane’s run.\n",
    "\n",
    "___\n",
    "\n"
   ]
  },
  {
   "cell_type": "markdown",
   "metadata": {},
   "source": [
    "### Question 1a: Exploratory Visualization (12 pts)\n",
    "\n",
    "\n",
    "Scatter the seeded vs unseeded data, trying to recreate the plot shown below. \n",
    "You don't have exactly match the layout of the image, but there are a few things needed as part of the grade.\n",
    "\n",
    "- 4 pts: correct unseeded and seeded data\n",
    "- 4 pts: correct x and y labels (precipitation, unseeded, seeded)\n",
    "- 4 pts: markers showing the mean of each distribution"
   ]
  },
  {
   "cell_type": "markdown",
   "metadata": {},
   "source": [
    "<img src='./seeding3.png' width=\"500px\" />\n",
    "\n"
   ]
  },
  {
   "cell_type": "markdown",
   "metadata": {
    "deletable": false,
    "editable": false
   },
   "source": [
    "<!-- BEGIN QUESTION -->\n",
    "\n"
   ]
  },
  {
   "cell_type": "code",
   "execution_count": 6,
   "metadata": {
    "tags": []
   },
   "outputs": [
    {
     "data": {
      "text/plain": [
       "[Text(0, 0, 'Unseeded'), Text(1, 0, 'Seeded')]"
      ]
     },
     "execution_count": 6,
     "metadata": {},
     "output_type": "execute_result"
    },
    {
     "data": {
      "image/png": "[encoded data removed]",
      "text/plain": [
       "<Figure size 640x480 with 1 Axes>"
      ]
     },
     "metadata": {},
     "output_type": "display_data"
    }
   ],
   "source": [
    "cloud_df=pd.read_csv('cloudseed.csv')\n",
    "\n",
    "fig=plt.figure()\n",
    "# fig.set_size_inches(5, 10)\n",
    "ax1=fig.add_subplot(111)\n",
    "\n",
    "ax1.scatter(np.zeros(len(cloud_df['seeded'])), cloud_df['unseeded'], edgecolor='k', s=15, facecolors= 'none')\n",
    "ax1.plot(0.1, np.mean(cloud_df['unseeded']), '<')\n",
    "ax1.scatter(np.zeros(len(cloud_df['seeded']),)+1, cloud_df['seeded'], edgecolor='r', s=15, facecolors= 'none')\n",
    "ax1.plot(1.1, np.mean(cloud_df['seeded']), '<')\n",
    "ax1.set_ylabel('precipitation')\n",
    "ax1.set_xticks([0,1])\n",
    "ax1.set_xticklabels(['Unseeded', 'Seeded'])\n"
   ]
  },
  {
   "cell_type": "markdown",
   "metadata": {
    "deletable": false,
    "editable": false
   },
   "source": [
    "<!-- END QUESTION -->\n",
    "\n",
    "### Bonus option #1\n",
    "In above plot, it is hard to see all the data as many of the points are plotted over each other. One way to resolve this issue is to randomly scatter the horizontal position of each of the points. Try to implement that to improve the visualization.\n",
    "\n",
    "*Not* worth extra credit."
   ]
  },
  {
   "cell_type": "markdown",
   "metadata": {
    "deletable": false,
    "editable": false
   },
   "source": [
    "<!-- BEGIN QUESTION -->\n",
    "\n"
   ]
  },
  {
   "cell_type": "code",
   "execution_count": null,
   "metadata": {
    "tags": []
   },
   "outputs": [],
   "source": []
  },
  {
   "cell_type": "markdown",
   "metadata": {
    "deletable": false,
    "editable": false
   },
   "source": [
    "<!-- END QUESTION -->\n",
    "\n",
    "### Question 1b: (3 pts)\n",
    "We will test the null hypothesis that the unseeded and seeded data have the same mean precipitation, along with an alternative hypothesis that seeding resulted in higher mean precipitation. We will therefore use as a test statistic the difference between the means of seeded and unseeded data. (seeded - unseeded)\n",
    "\n",
    "What is the observed value of this test statistic?\n",
    "Save this value to `measured_test_statistic`\n"
   ]
  },
  {
   "cell_type": "code",
   "execution_count": 7,
   "metadata": {
    "tags": []
   },
   "outputs": [],
   "source": [
    "# Calculate the test statistic and save it to this variable.\n",
    "measured_test_statistic = np.mean(cloud_df['seeded']) - np.mean(cloud_df['unseeded'])"
   ]
  },
  {
   "cell_type": "code",
   "execution_count": 8,
   "metadata": {
    "deletable": false,
    "editable": false,
    "tags": []
   },
   "outputs": [
    {
     "data": {
      "text/html": [
       "<p><strong><pre style='display: inline;'>q1b</pre></strong> passed! 🌈</p>"
      ],
      "text/plain": [
       "q1b results: All test cases passed!"
      ]
     },
     "execution_count": 8,
     "metadata": {},
     "output_type": "execute_result"
    }
   ],
   "source": [
    "grader.check(\"q1b\")"
   ]
  },
  {
   "cell_type": "markdown",
   "metadata": {},
   "source": [
    "### Question 1c: (7 pts)\n",
    "Test the null hypothesis that this observed difference in mean precipitation would have occured by chance via a permutation test. Perform 1,000 permutations of the observed data. For each permutation, treat the mean difference between the shuffled groups as your test statistic. \n",
    "\n",
    "Save your permuted test statistics to a numpy array `permuted_mean_array`\n"
   ]
  },
  {
   "cell_type": "code",
   "execution_count": 9,
   "metadata": {
    "tags": []
   },
   "outputs": [],
   "source": [
    "comb_dt=np.append(cloud_df['seeded'], cloud_df['unseeded'])\n",
    "\n",
    "num_permutations=1000\n",
    "permuted_mean_array = np.zeros(num_permutations)\n",
    "\n",
    "# Loop for number of permutations to construct an array of test statistics expected under null hypothesis\n",
    "for ct in range(num_permutations):\n",
    "    permuted_dt = np.random.permutation(comb_dt)\n",
    "    fic_seeded=permuted_dt[0:len(cloud_df['seeded'])]\n",
    "    fic_unseeded=permuted_dt[len(cloud_df['unseeded']):]\n",
    "    permuted_mean_array[ct] = np.mean(fic_seeded) - np.mean(fic_unseeded)\n"
   ]
  },
  {
   "cell_type": "code",
   "execution_count": 10,
   "metadata": {
    "deletable": false,
    "editable": false,
    "tags": []
   },
   "outputs": [
    {
     "data": {
      "text/html": [
       "<p><strong><pre style='display: inline;'>q1c</pre></strong> passed! 🙌</p>"
      ],
      "text/plain": [
       "q1c results: All test cases passed!"
      ]
     },
     "execution_count": 10,
     "metadata": {},
     "output_type": "execute_result"
    }
   ],
   "source": [
    "grader.check(\"q1c\")"
   ]
  },
  {
   "cell_type": "markdown",
   "metadata": {},
   "source": [
    "### Question 1d (5 pts): Plot a histogram showing the distribution of the test statistic and a vertical line for the observed value.\n",
    "\n",
    "- 3 pts: histogram of permuted_mean_array and vertical line of observed value  \n",
    "- 2 pts: x label and title  "
   ]
  },
  {
   "cell_type": "markdown",
   "metadata": {
    "deletable": false,
    "editable": false
   },
   "source": [
    "<!-- BEGIN QUESTION -->\n",
    "\n"
   ]
  },
  {
   "cell_type": "code",
   "execution_count": 11,
   "metadata": {
    "tags": []
   },
   "outputs": [
    {
     "data": {
      "text/plain": [
       "Text(277.4000000000001, 200, 'observed \\nvalue')"
      ]
     },
     "execution_count": 11,
     "metadata": {},
     "output_type": "execute_result"
    },
    {
     "data": {
      "image/png": "[encoded data removed]",
      "text/plain": [
       "<Figure size 640x480 with 1 Axes>"
      ]
     },
     "metadata": {},
     "output_type": "display_data"
    }
   ],
   "source": [
    "fig=plt.figure()\n",
    "ax=fig.add_subplot(111)\n",
    "ax.hist(permuted_mean_array)\n",
    "ax.set_ylabel('counts')\n",
    "ax.set_xlabel('seeded mean-unseeded after permutation')\n",
    "ax.plot([measured_test_statistic,measured_test_statistic], [0,250],'r')\n",
    "ax.text(measured_test_statistic, 200,'observed \\nvalue',color='r')"
   ]
  },
  {
   "cell_type": "markdown",
   "metadata": {
    "deletable": false,
    "editable": false
   },
   "source": [
    "<!-- END QUESTION -->\n",
    "\n",
    "### Question 1e: (3 pts)\n",
    "According to your permutation test, what is the probability that the observed difference in means would have occurred via random sampling?   \n",
    "Save this value to the variable `proportion_exceeding_observed`\n"
   ]
  },
  {
   "cell_type": "code",
   "execution_count": 12,
   "metadata": {
    "tags": []
   },
   "outputs": [
    {
     "name": "stdout",
     "output_type": "stream",
     "text": [
      "Proportion Exceeding Observed: 0.019\n"
     ]
    }
   ],
   "source": [
    "proportion_exceeding_observed = np.sum(permuted_mean_array >= measured_test_statistic) / num_permutations\n",
    "print(\"Proportion Exceeding Observed:\", proportion_exceeding_observed)"
   ]
  },
  {
   "cell_type": "code",
   "execution_count": 13,
   "metadata": {
    "deletable": false,
    "editable": false,
    "tags": []
   },
   "outputs": [
    {
     "data": {
      "text/html": [
       "<p><strong><pre style='display: inline;'>q1e</pre></strong> passed! 🚀</p>"
      ],
      "text/plain": [
       "q1e results: All test cases passed!"
      ]
     },
     "execution_count": 13,
     "metadata": {},
     "output_type": "execute_result"
    }
   ],
   "source": [
    "grader.check(\"q1e\")"
   ]
  },
  {
   "cell_type": "markdown",
   "metadata": {},
   "source": [
    "## Question 2: Estimating length changes in a northern pike population. (40 pts)\n",
    "In 1989, the Minnesota Department of Natural Resources instituted a *slot limit* of 22-30 inches for fish in [Medicine Lake](https://en.wikipedia.org/wiki/Medicine_Lake_(Minnesota)), an ~ 460-acre lake in Beltrami County, MN. This means that all fish caught within this size interval had to be released. Using limited random samples from before and after the limit was imposed, try to estimate the effect of the slot limit on fish lengths. To do this, use `Pikedata.csv`, which contains length data from 73 fish caught in net collection traps in 1988 and 81 fish collected in 1993. From these limited samples, we will use permutations to test if the difference in mean length from 1993 to 1981 was due to random chance.\n",
    "___\n"
   ]
  },
  {
   "cell_type": "markdown",
   "metadata": {},
   "source": [
    "### Question 2a (13 pts):\n",
    "Make two histograms on the same plot showing the distribution of 1988 and 1993 lengths.   \n",
    "Make the 1993 histogram with the `histtype='step'` option.   \n",
    "Plot the means of each distribution as downward facing triangles.  \n",
    "\n",
    "Your does not have to match the given example, but it should have the following elements:\n",
    "\n",
    "- 6 pts: histogram of 1988 and 1993 lengths with 1993 histogram as a step.\n",
    "- 4 pts: downward traingle markers for the mean of each distriution\n",
    "- 3 pts: x and y axis labels\n",
    "\n",
    "hint: a downward facing triangle marker is denoted as `v`"
   ]
  },
  {
   "cell_type": "markdown",
   "metadata": {},
   "source": [
    "<img src='./fish.png' width=\"500px\" />"
   ]
  },
  {
   "cell_type": "markdown",
   "metadata": {
    "deletable": false,
    "editable": false
   },
   "source": [
    "<!-- BEGIN QUESTION -->\n",
    "\n"
   ]
  },
  {
   "cell_type": "code",
   "execution_count": 14,
   "metadata": {
    "tags": []
   },
   "outputs": [
    {
     "data": {
      "text/plain": [
       "<matplotlib.legend.Legend at 0x7fd6102ef850>"
      ]
     },
     "execution_count": 14,
     "metadata": {},
     "output_type": "execute_result"
    },
    {
     "data": {
      "image/png": "[encoded data removed]",
      "text/plain": [
       "<Figure size 600x1000 with 1 Axes>"
      ]
     },
     "metadata": {},
     "output_type": "display_data"
    }
   ],
   "source": [
    "pike_df=pd.read_csv('Pikedata.csv')\n",
    "df_1988 = pike_df[pike_df['year'] == 1988]['length.inches']\n",
    "df_1993 = pike_df[pike_df['year'] == 1993]['length.inches']\n",
    "\n",
    "fig=plt.figure()\n",
    "fig.set_size_inches(6,10)\n",
    "ax2=fig.add_subplot(211)\n",
    "\n",
    "ax2.hist(df_1988, color='b', label='1988 lengths')\n",
    "ax2.hist(df_1993, color='r', histtype='step', label='1993 lengths')\n",
    "ax2.plot(np.mean(df_1988), 25, 'v', color='b', label='88 mean')\n",
    "ax2.plot(np.mean(df_1993), 25, 'v', color='r', label='93 mean')\n",
    "ax2.set_xlabel('fish length in inches')\n",
    "ax2.set_ylabel('counts')\n",
    "ax2.legend(['1988 lengths', '1993 lengths', '88 mean', '93 mean'])"
   ]
  },
  {
   "cell_type": "markdown",
   "metadata": {
    "deletable": false,
    "editable": false
   },
   "source": [
    "<!-- END QUESTION -->\n",
    "\n",
    "### Question 2b (3 pts):\n",
    "Assign the observed difference in mean lengths between 1993 and 1988 to `observed_mean_difference`  \n",
    "To be clear, the difference in means is: ( mean of 1993 lengths - mean of 1988 lengths)  \n",
    "\n"
   ]
  },
  {
   "cell_type": "code",
   "execution_count": 15,
   "metadata": {
    "tags": []
   },
   "outputs": [],
   "source": [
    "observed_mean_difference= np.mean(df_1993) - np.mean(df_1988)"
   ]
  },
  {
   "cell_type": "code",
   "execution_count": 16,
   "metadata": {
    "deletable": false,
    "editable": false,
    "tags": []
   },
   "outputs": [
    {
     "data": {
      "text/html": [
       "<p><strong><pre style='display: inline;'>q2b</pre></strong> passed! 🚀</p>"
      ],
      "text/plain": [
       "q2b results: All test cases passed!"
      ]
     },
     "execution_count": 16,
     "metadata": {},
     "output_type": "execute_result"
    }
   ],
   "source": [
    "grader.check(\"q2b\")"
   ]
  },
  {
   "cell_type": "markdown",
   "metadata": {},
   "source": [
    "### Question 2C (6 pts):\n",
    "Use a permutation test, with 1000 permutations, to calculate the distribution of mean differences expected under the null hypothesis that there was no difference between 1993 and 1988 fish lengths. \n",
    "\n",
    "Save your permuted test statistics in the variable `permuted_mean_array`\n",
    "- You can make permuted_mean_array to be either a list or numpy array."
   ]
  },
  {
   "cell_type": "code",
   "execution_count": 17,
   "metadata": {
    "tags": []
   },
   "outputs": [],
   "source": [
    "comb_dt=np.append(df_1988, df_1993)\n",
    "\n",
    "num_permutations=1000\n",
    "permuted_mean_array = np.zeros(num_permutations)\n",
    "\n",
    "# Loop for number of permutations to construct an array of test statistics expected under null hypothesis\n",
    "for ct in range(num_permutations):\n",
    "    permuted_dt = np.random.permutation(comb_dt)\n",
    "    fic_1993=permuted_dt[0:len(df_1993)]\n",
    "    fic_1988=permuted_dt[len(df_1988):]\n",
    "    permuted_mean_array[ct] = np.mean(fic_1993) - np.mean(fic_1988)"
   ]
  },
  {
   "cell_type": "code",
   "execution_count": 18,
   "metadata": {
    "deletable": false,
    "editable": false,
    "tags": []
   },
   "outputs": [
    {
     "data": {
      "text/html": [
       "<p><strong><pre style='display: inline;'>q2c</pre></strong> passed! 💯</p>"
      ],
      "text/plain": [
       "q2c results: All test cases passed!"
      ]
     },
     "execution_count": 18,
     "metadata": {},
     "output_type": "execute_result"
    }
   ],
   "source": [
    "grader.check(\"q2c\")"
   ]
  },
  {
   "cell_type": "markdown",
   "metadata": {},
   "source": [
    "### QUESTION 2d (5 pts): Plot a histogram showing the distribution of the test statistic and a vertical line for the observed value.\n",
    "\n",
    "- 3 pts: histogram of permuted_mean_array and vertical line of observed value  \n",
    "- 2 pts: x label and title  "
   ]
  },
  {
   "cell_type": "markdown",
   "metadata": {
    "deletable": false,
    "editable": false
   },
   "source": [
    "<!-- BEGIN QUESTION -->\n",
    "\n"
   ]
  },
  {
   "cell_type": "code",
   "execution_count": 19,
   "metadata": {
    "tags": []
   },
   "outputs": [
    {
     "data": {
      "text/plain": [
       "Text(2.8977574835109046, 200, 'observed \\nvalue')"
      ]
     },
     "execution_count": 19,
     "metadata": {},
     "output_type": "execute_result"
    },
    {
     "data": {
      "image/png": "[encoded data removed]",
      "text/plain": [
       "<Figure size 640x480 with 1 Axes>"
      ]
     },
     "metadata": {},
     "output_type": "display_data"
    }
   ],
   "source": [
    "fig=plt.figure()\n",
    "ax2d=fig.add_subplot(111)\n",
    "ax2d.hist(permuted_mean_array)\n",
    "ax2d.set_ylabel('counts')\n",
    "ax2d.set_xlabel('1993 mean-1988 after permutation')\n",
    "ax2d.plot([observed_mean_difference,observed_mean_difference], [0,300],'r')\n",
    "ax2d.text(observed_mean_difference, 200,'observed \\nvalue',color='r')"
   ]
  },
  {
   "cell_type": "markdown",
   "metadata": {
    "deletable": false,
    "editable": false
   },
   "source": [
    "<!-- END QUESTION -->\n",
    "\n",
    "### Question 2e (3 pts): \n",
    "For what proportion of this null distribution is the mean length difference greater than observed?  \n",
    "Save your answer to the variable `proportion_exceeding_observed`"
   ]
  },
  {
   "cell_type": "code",
   "execution_count": 20,
   "metadata": {
    "tags": []
   },
   "outputs": [],
   "source": [
    "proportion_exceeding_observed= sum(permuted_mean_array>=observed_mean_difference)"
   ]
  },
  {
   "cell_type": "code",
   "execution_count": 21,
   "metadata": {
    "deletable": false,
    "editable": false,
    "tags": []
   },
   "outputs": [
    {
     "data": {
      "text/html": [
       "<p><strong><pre style='display: inline;'>q2e</pre></strong> passed! 🍀</p>"
      ],
      "text/plain": [
       "q2e results: All test cases passed!"
      ]
     },
     "execution_count": 21,
     "metadata": {},
     "output_type": "execute_result"
    }
   ],
   "source": [
    "grader.check(\"q2e\")"
   ]
  },
  {
   "cell_type": "markdown",
   "metadata": {
    "deletable": false,
    "editable": false
   },
   "source": [
    "## Submission\n",
    "\n",
    "Make sure you have run all cells in your notebook in order before running the cell below, so that all images/graphs appear in the output. The cell below will generate a zip file for you to submit. **Please save before exporting!**"
   ]
  },
  {
   "cell_type": "code",
   "execution_count": null,
   "metadata": {
    "deletable": false,
    "editable": false
   },
   "outputs": [],
   "source": [
    "# Save your notebook first, then run this cell to export your submission.\n",
    "grader.export(pdf=False, run_tests=True)"
   ]
  },
  {
   "cell_type": "markdown",
   "metadata": {},
   "source": [
    " "
   ]
  }
 ],
 "metadata": {
  "kernelspec": {
   "display_name": "Python 3 (ipykernel)",
   "language": "python",
   "name": "python3"
  },
  "language_info": {
   "codemirror_mode": {
    "name": "ipython",
    "version": 3
   },
   "file_extension": ".py",
   "mimetype": "text/x-python",
   "name": "python",
   "nbconvert_exporter": "python",
   "pygments_lexer": "ipython3",
   "version": "3.11.7"
  },
  "otter": {
   "OK_FORMAT": true,
   "tests": {
    "q1b": {
     "name": "q1b",
     "points": 3,
     "suites": [
      {
       "cases": [
        {
         "code": ">>> \n>>> assert np.isclose(measured_test_statistic, ord('a')*3-13.6)  \n",
         "failure_message": "The measured_test_statistic is not correct, check that you are finding the difference in means between the seeded and undseeded columns.",
         "hidden": false,
         "locked": false
        }
       ],
       "scored": true,
       "setup": "",
       "teardown": "",
       "type": "doctest"
      }
     ]
    },
    "q1c": {
     "name": "q1c",
     "points": 7,
     "suites": [
      {
       "cases": [
        {
         "code": ">>> \n>>> assert (len(permuted_mean_array) == 1000)\n",
         "failure_message": "Your permuted_mean_array is not 1000 long, check that you permute 1000 times and add the test statistic for each permuation.",
         "hidden": false,
         "locked": false
        },
        {
         "code": ">>> \n>>> # Testing the standard deviation of permuted_mean_array to see if student correctly performed 1000 permutation tests....\n>>> # this is a little tricky because each student will have a different permuted_mean_array as permutations are random.\n>>> \n>>> # I used the stardard deviation of permuted_mean_array as a test metric...\n>>> # If the stdev is within a certain range then the question will pass.\n>>> \n>>> # How did I get a valid range for the stdev...\n>>> \n>>> # I simulated 10,000 generations of permuted_mean_array, each time appening the standard deviation of permuted_mean_array to a list.\n>>> # I took the mean and standard deviation of this list to find a range of values which should cover nearly all possible standard deviations of permuted_mean_array.\n>>> \n>>> # I used a 5 sigma interval, which covers 99.9999994% of all possible observations. I think this is large enough to guarantee no student should ever fail the question given a correct method, and also small enough to not be too forgiving\n>>> \n>>> # this was done again for the mean, both probabilities together account for 99.9999988% of possibilities.\n>>> \n>>> sigma_5_interval_std = [128.93121114518055, 156.57745184296346]\n>>> sigma_5_interval_mean = [-22.636169986802205, 22.652194800648356]\n>>> \n>>> if type(permuted_mean_array) == list:\n...     permuted_mean_array = np.array(permuted_mean_array)\n...     \n>>> stdev_truth = sigma_5_interval_std[0] <= np.std(permuted_mean_array) <= sigma_5_interval_std[1]\n>>> mean_truth = sigma_5_interval_mean[0] <= np.mean(permuted_mean_array) <= sigma_5_interval_mean[1]\n>>> assert stdev_truth and mean_truth\n",
         "failure_message": "Your permuted_mean_array has a distribution which indicate the permutation was done wrong. Check that your test statistic is the difference in means between seeded and unseeded permuted data.",
         "hidden": false,
         "locked": false
        }
       ],
       "scored": true,
       "setup": "",
       "teardown": "",
       "type": "doctest"
      }
     ]
    },
    "q1e": {
     "name": "q1e",
     "points": 3,
     "suites": [
      {
       "cases": [
        {
         "code": ">>> \n>>> assert np.isclose(proportion_exceeding_observed, 0.02161, atol = 0.012)\n",
         "failure_message": "Your prob_of_observed_mean is incorrect,",
         "hidden": false,
         "locked": false
        }
       ],
       "scored": true,
       "setup": "",
       "teardown": "",
       "type": "doctest"
      }
     ]
    },
    "q2b": {
     "name": "q2b",
     "points": 3,
     "suites": [
      {
       "cases": [
        {
         "code": ">>> \n>>> assert np.isclose(observed_mean_difference, 2.897757483510901)\n",
         "failure_message": "Do you have a positive difference? If so, are you calculating the right test statistic?",
         "hidden": false,
         "locked": false
        }
       ],
       "scored": true,
       "setup": "",
       "teardown": "",
       "type": "doctest"
      }
     ]
    },
    "q2c": {
     "name": "q2c",
     "points": 6,
     "suites": [
      {
       "cases": [
        {
         "code": ">>> \n>>> assert (len(permuted_mean_array) == 1000)\n",
         "failure_message": "Your permuted_mean_array is not 1000 long, check that you permute 1000 times and add the test statistic for each permuation.",
         "hidden": false,
         "locked": false
        },
        {
         "code": ">>> \n>>> \n>>> sigma_5_interval_mean = [-0.10631982186409752, 0.1061521216510076]\n>>> sigma_5_interval_std = [0.59376952916815, 0.7401895030257317]\n>>> \n>>> if type(permuted_mean_array) == list:\n...     permuted_mean_array = np.array(permuted_mean_array)\n...     \n>>> stdev_truth = sigma_5_interval_std[0] <= np.std(permuted_mean_array) <= sigma_5_interval_std[1]\n>>> mean_truth = sigma_5_interval_mean[0] <= np.mean(permuted_mean_array) <= sigma_5_interval_mean[1]\n>>> assert stdev_truth and mean_truth\n",
         "failure_message": "Your permuted_mean_array has a distribution which indicate the permutation was done wrong. Check that your test statistic is the difference in means between 1993 and 1988 permuted length data.",
         "hidden": false,
         "locked": false
        }
       ],
       "scored": true,
       "setup": "",
       "teardown": "",
       "type": "doctest"
      }
     ]
    },
    "q2e": {
     "name": "q2e",
     "points": 3,
     "suites": [
      {
       "cases": [
        {
         "code": ">>> assert proportion_exceeding_observed == 0.0\n",
         "hidden": false,
         "locked": false
        }
       ],
       "scored": true,
       "setup": "",
       "teardown": "",
       "type": "doctest"
      }
     ]
    }
   }
  }
 },
 "nbformat": 4,
 "nbformat_minor": 4
}
